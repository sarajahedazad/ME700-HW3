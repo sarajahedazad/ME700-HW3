{
 "cells": [
  {
   "cell_type": "code",
   "execution_count": 1,
   "metadata": {},
   "outputs": [],
   "source": [
    "# importing modules\n",
    "from finiteelementanalysis import pre_process as pre\n",
    "from finiteelementanalysis import pre_process_demo_helper_fcns as pre_demo\n",
    "from finiteelementanalysis.solver import hyperelastic_solver\n",
    "from finiteelementanalysis import discretization as di\n",
    "import numpy as np\n",
    "import matplotlib.pyplot as plt\n"
   ]
  },
  {
   "cell_type": "code",
   "execution_count": 2,
   "metadata": {},
   "outputs": [],
   "source": [
    "# definning a fucntion for getting the number of DoF for a mesh\n",
    "def calc_mesh_dof( ele_type, coords):\n",
    "    _, ndof, _ = di.element_info(ele_type)\n",
    "    n_nodes = coords.shape[0]\n",
    "    mesh_ndof = ndof * n_nodes\n",
    "    return mesh_ndof\n",
    "\n",
    "def solve_hyperelastic_rect_mesh(ele_type, L_x, L_y, N_x, N_y, q, nr_num_steps):\n",
    "    \"\"\"Solves a 2D hyperelastic problem on a rectangular mesh.\"\"\"\n",
    "    \n",
    "    #--- Mesh Parameters ---\n",
    "    origin_x, origin_y = 0.0, 0.0\n",
    "    num_gauss_pts = 1  # Currently unused\n",
    "\n",
    "    #--- Get Element Info ---\n",
    "    _, ndof, _ = di.element_info(ele_type)\n",
    "\n",
    "    #--- Generate Mesh ---\n",
    "    coords, connect = pre.generate_rect_mesh_2d(\n",
    "        ele_type,\n",
    "        origin_x, origin_y,\n",
    "        origin_x + L_x, origin_y + L_y,\n",
    "        N_x, N_y\n",
    "    )\n",
    "\n",
    "    #--- Define Boundaries ---\n",
    "    boundary_nodes, boundary_edges = pre.identify_rect_boundaries(\n",
    "        coords, connect, ele_type,\n",
    "        origin_x, origin_x + L_x,\n",
    "        origin_y, origin_y + L_y\n",
    "    )\n",
    "\n",
    "    # Fixed boundary on the left edge: u_x = u_y = 0\n",
    "    fixed_nodes = pre.assign_fixed_nodes_rect(boundary_nodes, \"left\", 0.0, 0.0)\n",
    "\n",
    "    # Apply uniform load on the right edge in x-direction\n",
    "    dload_info = pre.assign_uniform_load_rect(boundary_edges, \"right\", 0.0, q)\n",
    "\n",
    "    #--- Material Properties ---\n",
    "    mu = 10.0\n",
    "    kappa = 1000.0\n",
    "    material_props = np.array([mu, kappa])\n",
    "\n",
    "    # Optional: derived properties for reference\n",
    "    nu = (3 * kappa - 2 * mu) / (6 * kappa + 2 * mu)\n",
    "    E = 2 * mu * (1 + nu)\n",
    "\n",
    "    #--- Solve Nonlinear Problem ---\n",
    "    displacements_all, nr_info_all = hyperelastic_solver(\n",
    "        material_props,\n",
    "        ele_type,\n",
    "        coords.T,\n",
    "        connect.T,\n",
    "        fixed_nodes,\n",
    "        dload_info,\n",
    "        nr_print=True,\n",
    "        nr_num_steps=nr_num_steps,\n",
    "        nr_tol=1e-9,\n",
    "        nr_maxit=30\n",
    "    )\n",
    "\n",
    "    return coords, connect, displacements_all\n"
   ]
  },
  {
   "cell_type": "code",
   "execution_count": 3,
   "metadata": {},
   "outputs": [
    {
     "name": "stdout",
     "output_type": "stream",
     "text": [
      "Step 0, load factor = 0.500\n",
      "Iteration 1, Correction=1.000000e+00, Residual=1.373533e-04, tolerance=1.000000e-09\n",
      "Iteration 2, Correction=4.410400e-01, Residual=2.299147e+00, tolerance=1.000000e-09\n",
      "Iteration 3, Correction=0.000000e+00, Residual=nan, tolerance=1.000000e-09\n",
      "Step 1, load factor = 1.000\n",
      "Iteration 1, Correction=0.000000e+00, Residual=nan, tolerance=1.000000e-09\n"
     ]
    },
    {
     "name": "stderr",
     "output_type": "stream",
     "text": [
      "/home/sara/PhD/ME700/HW3_new/finite-element-analysis/src/finiteelementanalysis/solver.py:133: MatrixRankWarning: Matrix is exactly singular\n",
      "  d_displacement = spla.spsolve(K_sparse, R)\n",
      "/home/sara/anaconda3/envs/finite-element-analysis-env/lib/python3.12/site-packages/numpy/linalg/_linalg.py:2432: RuntimeWarning: invalid value encountered in det\n",
      "  r = _umath_linalg.det(a, signature=signature)\n"
     ]
    }
   ],
   "source": [
    "#--- Geometry Parameters ---\n",
    "ratio = 5\n",
    "L_y = 1                          # Width\n",
    "L_x = ratio * L_y               # Length\n",
    "\n",
    "#--- Mesh Sizes: (N_x, N_y) ---\n",
    "mesh_size = ratio * 10, 10\n",
    "\n",
    "\n",
    "#--- Element and Solver Setup ---\n",
    "ele_type = 'D2_nn4_quad'        # Type of element for the mesh\n",
    "q = -1                       # Applied traction in x-direction\n",
    "nr_num_steps = 2               # Number of Newton-Raphson steps\n",
    "\n",
    "#--- Run Simulation and Collect Results ---\n",
    "meshsize2result_D2nn4quad_dict = {'ele_type': ele_type}\n",
    "\n",
    "N_x, N_y = mesh_size\n",
    "coords, connect, displacements_all = solve_hyperelastic_rect_mesh(\n",
    "    ele_type, L_x, L_y, N_x, N_y, q, nr_num_steps\n",
    ")\n",
    "mesh_ndof = calc_mesh_dof(ele_type, coords)\n",
    "meshsize2result_D2nn4quad_dict[mesh_size] = (\n",
    "    coords,\n",
    "    connect,\n",
    "    displacements_all[-1],  # Final displacement field\n",
    "    mesh_ndof\n",
    ")\n"
   ]
  },
  {
   "cell_type": "markdown",
   "metadata": {},
   "source": [
    "**Reason for failure**  \n",
    "Reason for Failure\n",
    "In this example, the applied force is significantly larger than in Parts A and B, and the parameters are different as well. Because of this, the solver struggles to converge:\n",
    "\n",
    "Large Force\n",
    "When the force is much larger, the system can experience bigger displacements, stresses, or other responses. If the numerical solver tries to handle these large changes in one big step (or with very few steps), the predicted solution might jump too far from the true solution. This large “jump” can cause the iterative solver to diverge.\n",
    "\n",
    "Poor Initial Condition\n",
    "Most iterative solvers (e.g., Newton-Raphson) start from an initial guess. If that guess is too far from the true solution—especially when forces are large—the solver’s iterative updates can fail to converge. Essentially, each iteration corrects the guess based on local information (e.g., local gradients, residuals). With a big force and a bad initial guess, the solver updates can overshoot.\n",
    "\n",
    "\n",
    "Breaking the simulation into more, smaller steps (by increasing nr_num_steps) forces the solver to approach the solution more gradually. Rather than applying the entire load or change at once, you apply it incrementally. Each step starts from the converged solution of the previous step, which becomes a much better initial guess for the next increment. This approach often stabilizes the solver and prevents divergence.\n",
    "\n"
   ]
  }
 ],
 "metadata": {
  "kernelspec": {
   "display_name": "finite-element-analysis-env",
   "language": "python",
   "name": "python3"
  },
  "language_info": {
   "codemirror_mode": {
    "name": "ipython",
    "version": 3
   },
   "file_extension": ".py",
   "mimetype": "text/x-python",
   "name": "python",
   "nbconvert_exporter": "python",
   "pygments_lexer": "ipython3",
   "version": "3.12.9"
  }
 },
 "nbformat": 4,
 "nbformat_minor": 2
}
