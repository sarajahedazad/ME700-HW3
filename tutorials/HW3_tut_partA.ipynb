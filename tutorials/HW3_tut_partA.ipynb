{
 "cells": [
  {
   "cell_type": "markdown",
   "metadata": {},
   "source": [
    "**ME700 HW3 Part A**  \n",
    "implement an example where you validate the performance of the code with an analytical solution."
   ]
  },
  {
   "cell_type": "markdown",
   "metadata": {},
   "source": [
    "Problem: I used the problem presented in [the 2D linear elasticity tutorial in Fenics](https://comet-fenics.readthedocs.io/en/latest/demo/elasticity/2D_elasticity.py.html). All the parameters are taken from this example. A 2D rectangular beam is fixed at one end and a distributed force is applied to that beam. In small displacements, the deflection of the tip of the beam can be approximated analytically. Try to compare the analytic and numerical results.   \n",
    "\n",
    "PS: It should be noted that the definition of force in this problem is for a distributed traction force, while in the example shown in fenics, it's for a body force. But since we are using a slender 2D beam, it is safe to think that the analytical solutions for these two are the same."
   ]
  },
  {
   "cell_type": "markdown",
   "metadata": {},
   "source": [
    "**Importing Modules**"
   ]
  },
  {
   "cell_type": "code",
   "execution_count": 1,
   "metadata": {},
   "outputs": [],
   "source": [
    "# importing modules\n",
    "from finiteelementanalysis import pre_process as pre\n",
    "from finiteelementanalysis import pre_process_demo_helper_fcns as pre_demo\n",
    "from finiteelementanalysis.solver import hyperelastic_solver\n",
    "from finiteelementanalysis import discretization as di\n",
    "import numpy as np\n",
    "import matplotlib.pyplot as plt"
   ]
  },
  {
   "cell_type": "markdown",
   "metadata": {},
   "source": [
    "**Functions**"
   ]
  },
  {
   "cell_type": "code",
   "execution_count": null,
   "metadata": {},
   "outputs": [],
   "source": [
    "def solve_hyperelastic_rect_mesh(ele_type, L_x, L_y, N_x, N_y, q, nr_num_steps, material_properties_dict):\n",
    "    \"\"\"Solves a 2D hyperelastic problem on a rectangular mesh.\"\"\"\n",
    "\n",
    "    #--- Get Element Info ---\n",
    "    _, ndof, _ = di.element_info(ele_type)\n",
    "\n",
    "    #--- Generate Mesh ---\n",
    "    origin_x, origin_y = 0.0, 0.0\n",
    "    coords, connect = pre.generate_rect_mesh_2d(\n",
    "        ele_type,\n",
    "        origin_x, origin_y,\n",
    "        origin_x + L_x, origin_y + L_y,\n",
    "        N_x, N_y\n",
    "    )\n",
    "\n",
    "    #--- Define Boundaries ---\n",
    "    boundary_nodes, boundary_edges = pre.identify_rect_boundaries(\n",
    "        coords, connect, ele_type,\n",
    "        origin_x, origin_x + L_x,\n",
    "        origin_y, origin_y + L_y\n",
    "    )\n",
    "\n",
    "    # Fixed boundary on the left edge: u_x = u_y = 0\n",
    "    fixed_nodes = pre.assign_fixed_nodes_rect(boundary_nodes, \"left\", 0.0, 0.0)\n",
    "\n",
    "    # Apply uniform load on the top edge in x-direction\n",
    "    dload_info = pre.assign_uniform_load_rect(boundary_edges, \"top\", 0.0, q)\n",
    "\n",
    "    #--- Material Properties ---\n",
    "    mu = material_properties_dict['mu']\n",
    "    kappa = material_properties_dict['kappa']\n",
    "\n",
    "    material_props = np.array([mu, kappa])\n",
    "\n",
    "    #--- Solve Nonlinear Problem ---\n",
    "    displacements_all, nr_info_all = hyperelastic_solver(\n",
    "        material_props,\n",
    "        ele_type,\n",
    "        coords.T,\n",
    "        connect.T,\n",
    "        fixed_nodes,\n",
    "        dload_info,\n",
    "        nr_print=True,\n",
    "        nr_num_steps=nr_num_steps,\n",
    "        nr_tol=1e-9,\n",
    "        nr_maxit=30\n",
    "    )\n",
    "\n",
    "    return coords, connect, displacements_all, nr_info_all"
   ]
  },
  {
   "cell_type": "markdown",
   "metadata": {},
   "source": [
    "**Parameters**"
   ]
  },
  {
   "cell_type": "code",
   "execution_count": 3,
   "metadata": {},
   "outputs": [],
   "source": [
    "#--- Material Properties ---\n",
    "nu = 0.3\n",
    "E = 100000\n",
    "\n",
    "mu = E / (2.0 * (1.0 + nu))\n",
    "kappa = E / (3.0 * (1.0 - 2.0 * nu))\n",
    "\n",
    "material_properties_dict = {'nu': nu, 'E': E, 'mu': mu, 'kappa': kappa}\n",
    "\n",
    "#--- Geometry Parameters ---\n",
    "ratio = 25\n",
    "L_y = 1                          # Width\n",
    "L_x = ratio * L_y               # Length\n",
    "\n",
    "#--- Mesh Sizes: (N_x, N_y) ---\n",
    "ele_type = 'D2_nn8_quad'        # Type of element for the mesh\n",
    "mesh_size = (10, 250)\n",
    "N_x, N_y = mesh_size"
   ]
  },
  {
   "cell_type": "markdown",
   "metadata": {},
   "source": [
    "**Solving**"
   ]
  },
  {
   "cell_type": "code",
   "execution_count": 4,
   "metadata": {},
   "outputs": [
    {
     "name": "stdout",
     "output_type": "stream",
     "text": [
      "Step 0, load factor = 1.000\n",
      "Iteration 1, Correction=1.000000e+00, Residual=3.645553e-07, tolerance=1.000000e-09\n",
      "Iteration 2, Correction=1.134087e-04, Residual=2.895151e-06, tolerance=1.000000e-09\n",
      "Iteration 3, Correction=1.786909e-09, Residual=3.067995e-13, tolerance=1.000000e-09\n",
      "Iteration 4, Correction=6.519525e-14, Residual=2.974270e-13, tolerance=1.000000e-09\n"
     ]
    }
   ],
   "source": [
    "#--- Solver Setup ---\n",
    "q = -0.001                       # Applied traction in x-direction\n",
    "nr_num_steps = 1               # Number of Newton-Raphson steps\n",
    "\n",
    "#--- Run Simulation and Collect Results ---\n",
    "coords, connect, displacements_all, _ = solve_hyperelastic_rect_mesh(\n",
    "    ele_type, L_x, L_y, N_x, N_y, q, nr_num_steps, material_properties_dict\n",
    ")"
   ]
  },
  {
   "cell_type": "markdown",
   "metadata": {},
   "source": [
    "**Post Processing the Results**"
   ]
  },
  {
   "cell_type": "code",
   "execution_count": 5,
   "metadata": {},
   "outputs": [
    {
     "name": "stdout",
     "output_type": "stream",
     "text": [
      "Numerical tip displacement is -0.005288135751410938\n"
     ]
    }
   ],
   "source": [
    "dispfield_final = displacements_all[-1].reshape(-1, 2)\n",
    "tol = 1e-8\n",
    "# Find the node at the tip center (x = L_x, y = L_y / 2)\n",
    "ii = np.where(\n",
    "    (np.abs(coords[:, 0] - L_x) < tol) & \n",
    "    (np.abs(coords[:, 1] - L_y / 2) < tol)\n",
    ")\n",
    "\n",
    "tipcenterdisp_numerical = dispfield_final[ii, 1].item()\n",
    "print( 'Numerical tip displacement is', tipcenterdisp_numerical )"
   ]
  },
  {
   "cell_type": "markdown",
   "metadata": {},
   "source": [
    "**Analytical vs Numerical**"
   ]
  },
  {
   "cell_type": "code",
   "execution_count": null,
   "metadata": {},
   "outputs": [
    {
     "name": "stdout",
     "output_type": "stream",
     "text": [
      "Numerical displacement of the tip of the beam is: -0.005288 \n",
      "Analytical displacement of the tip of the beam is: -0.005859 ( 9.75% error )\n",
      "Analytical displacement of the tip of the beam, with the corrected Young's modulus is: -0.005332 ( 0.82% error ) \n"
     ]
    }
   ],
   "source": [
    "# Analytical Solution\n",
    "I = L_y ** 4 / 12\n",
    "E_effective = E / ( 1 - nu ** 2 )\n",
    "tipcenterdisp_theory = q * L_x**4 / ( 8 * E * I )\n",
    "tipcenterdisp_theory_corrected = q * L_x**4 / ( 8 * E_effective * I )\n",
    "\n",
    "error_percent = 100 * np.abs( ( tipcenterdisp_theory - tipcenterdisp_numerical ) / tipcenterdisp_theory )\n",
    "error_percent_corrected = 100 * np.abs( ( tipcenterdisp_theory_corrected - tipcenterdisp_numerical ) / tipcenterdisp_theory_corrected )\n",
    "#------------------\n",
    "print(f'Numerical displacement of the tip of the beam is: {tipcenterdisp_numerical:.6f} ')\n",
    "print(f'Analytical displacement of the tip of the beam is: {tipcenterdisp_theory:.6f} ( {error_percent:.2f}% error )')\n",
    "print(f\"Analytical displacement of the tip of the beam, with the corrected Young's modulus is: {tipcenterdisp_theory_corrected:0.6f} ( {error_percent_corrected:.2f}% error ) \")"
   ]
  },
  {
   "cell_type": "markdown",
   "metadata": {},
   "source": []
  }
 ],
 "metadata": {
  "kernelspec": {
   "display_name": "finite-element-analysis-env",
   "language": "python",
   "name": "python3"
  },
  "language_info": {
   "codemirror_mode": {
    "name": "ipython",
    "version": 3
   },
   "file_extension": ".py",
   "mimetype": "text/x-python",
   "name": "python",
   "nbconvert_exporter": "python",
   "pygments_lexer": "ipython3",
   "version": "3.12.9"
  }
 },
 "nbformat": 4,
 "nbformat_minor": 2
}
